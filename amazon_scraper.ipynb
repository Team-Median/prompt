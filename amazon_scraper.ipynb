{
 "metadata": {
  "language_info": {
   "codemirror_mode": {
    "name": "ipython",
    "version": 3
   },
   "file_extension": ".py",
   "mimetype": "text/x-python",
   "name": "python",
   "nbconvert_exporter": "python",
   "pygments_lexer": "ipython3",
   "version": "3.9.5"
  },
  "orig_nbformat": 2,
  "kernelspec": {
   "name": "python3",
   "display_name": "Python 3.9.5 64-bit ('.venv': venv)",
   "metadata": {
    "interpreter": {
     "hash": "12711b6da72899f1203b7fd775293ad094ccaabff73aa274666582aecd1f6ccf"
    }
   }
  }
 },
 "nbformat": 4,
 "nbformat_minor": 2,
 "cells": [
  {
   "cell_type": "code",
   "execution_count": 245,
   "metadata": {},
   "outputs": [],
   "source": [
    "from selenium import webdriver\n",
    "from selenium.webdriver.chrome.options import Options\n",
    "from selenium.webdriver.support.ui import WebDriverWait\n",
    "from selenium.webdriver.support import expected_conditions as EC\n",
    "from selenium.webdriver.common.by import By\n",
    "from selenium.webdriver.common.keys import Keys\n",
    "import time\n",
    "import pandas as pd\n",
    "import bs4\n",
    "#import chromedriver"
   ]
  },
  {
   "cell_type": "code",
   "execution_count": 246,
   "metadata": {},
   "outputs": [],
   "source": [
    "url = \"google.com\"\n",
    "driver = webdriver.Chrome()"
   ]
  },
  {
   "cell_type": "code",
   "execution_count": 259,
   "metadata": {},
   "outputs": [],
   "source": [
    "driver = webdriver.Chrome()  # Optional argument, if not specified will search path.\n",
    "\n",
    "driver.get('http://www.flightclub.com/')\n",
    "\n",
    "time.sleep(1) # Let the user actually see something!\n",
    "\n",
    "search_box = driver.find_element_by_id('NavigationSearchInput')\n",
    "\n",
    "search_box.send_keys('NIKE LEBRON 8 V/2 LOW “SOLAR RED”')\n",
    "\n",
    "\n",
    "time.sleep(1) # Let the user actually see something!\n",
    "#driver.find_element_by_id(\"View All Results\").click()\n",
    "search_box.send_keys(Keys.ENTER)\n",
    "#search_box.send_keys(Keys.ENTER)\n",
    "#search_box.submit()\n",
    "\n",
    "\n",
    "#driver.quit()"
   ]
  },
  {
   "cell_type": "code",
   "execution_count": 260,
   "metadata": {},
   "outputs": [],
   "source": [
    "results = driver.find_elements_by_class_name('sc-1wc5x2x-0')"
   ]
  },
  {
   "cell_type": "code",
   "execution_count": 249,
   "metadata": {},
   "outputs": [],
   "source": [
    "#results"
   ]
  },
  {
   "cell_type": "code",
   "execution_count": 261,
   "metadata": {},
   "outputs": [
    {
     "output_type": "stream",
     "name": "stdout",
     "text": [
      "Nike\nLEBRON 8 V/2 LOW 'SOLAR RED'\n$426+\nNike\nLEBRON 8 V/2 LOW RETRO 'MIAMI NIGHT' 2…\n$150+\nNike\nLEBRON 8 V/2 LOW 'MIAMI NIGHT' 2011\n$503+\nNike\nLEBRON 8 V/2 LOW 'MIAMI NIGHT' SAMPLE\nOut of stock\n"
     ]
    }
   ],
   "source": [
    "for result in results:\n",
    "    print(result.text)"
   ]
  },
  {
   "cell_type": "code",
   "execution_count": 262,
   "metadata": {},
   "outputs": [],
   "source": [
    "shoe_list = []\n",
    "for result in results:\n",
    "    shoe_list.append(result)\n",
    "    #x.append(result.text)"
   ]
  },
  {
   "cell_type": "code",
   "execution_count": 252,
   "metadata": {},
   "outputs": [],
   "source": [
    "#shoe_list"
   ]
  },
  {
   "cell_type": "code",
   "execution_count": 263,
   "metadata": {},
   "outputs": [],
   "source": [
    "for shoe in list(shoe_list):\n",
    "    if '$' not in shoe.text:\n",
    "        shoe_list.remove(shoe)"
   ]
  },
  {
   "cell_type": "code",
   "execution_count": 264,
   "metadata": {},
   "outputs": [
    {
     "output_type": "stream",
     "name": "stdout",
     "text": [
      "Nike\nLEBRON 8 V/2 LOW 'SOLAR RED'\n$426+\nNike\nLEBRON 8 V/2 LOW RETRO 'MIAMI NIGHT' 2…\n$150+\nNike\nLEBRON 8 V/2 LOW 'MIAMI NIGHT' 2011\n$503+\n"
     ]
    }
   ],
   "source": [
    "#shoe_list\n",
    "for shoe in shoe_list:\n",
    "    print(shoe.text)"
   ]
  },
  {
   "cell_type": "code",
   "execution_count": 265,
   "metadata": {},
   "outputs": [
    {
     "output_type": "execute_result",
     "data": {
      "text/plain": [
       "[<selenium.webdriver.remote.webelement.WebElement (session=\"9a6eefc59957bbcdc241ffa2fbead16c\", element=\"ac57e0e0-2778-44c0-8284-a80938ff83e9\")>,\n",
       " <selenium.webdriver.remote.webelement.WebElement (session=\"9a6eefc59957bbcdc241ffa2fbead16c\", element=\"f43abf21-1b91-46eb-880a-2ef91836bd97\")>,\n",
       " <selenium.webdriver.remote.webelement.WebElement (session=\"9a6eefc59957bbcdc241ffa2fbead16c\", element=\"f8a49e5f-0788-43af-97ae-89e8c37ffcd3\")>]"
      ]
     },
     "metadata": {},
     "execution_count": 265
    }
   ],
   "source": [
    "shoe_list"
   ]
  },
  {
   "cell_type": "code",
   "execution_count": 267,
   "metadata": {},
   "outputs": [],
   "source": [
    "links = [elem.get_attribute('href') for elem in shoe_list]"
   ]
  },
  {
   "cell_type": "code",
   "execution_count": 270,
   "metadata": {},
   "outputs": [
    {
     "output_type": "execute_result",
     "data": {
      "text/plain": [
       "['https://www.flightclub.com/lebron-8-v-2-low-solar-red-solar-red-solar-red-blk-white-041519',\n",
       " 'https://www.flightclub.com/lebron-8-v-2-low-retro-miami-night-2020-dj4436-100',\n",
       " 'https://www.flightclub.com/lebron-8-v-2-low-white-solar-red-glass-blue-041534']"
      ]
     },
     "metadata": {},
     "execution_count": 270
    }
   ],
   "source": [
    "links"
   ]
  },
  {
   "cell_type": "code",
   "execution_count": null,
   "metadata": {},
   "outputs": [],
   "source": []
  }
 ]
}