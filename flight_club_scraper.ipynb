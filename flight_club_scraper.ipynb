{
 "metadata": {
  "language_info": {
   "codemirror_mode": {
    "name": "ipython",
    "version": 3
   },
   "file_extension": ".py",
   "mimetype": "text/x-python",
   "name": "python",
   "nbconvert_exporter": "python",
   "pygments_lexer": "ipython3",
   "version": "3.9.5"
  },
  "orig_nbformat": 2,
  "kernelspec": {
   "name": "python3",
   "display_name": "Python 3.9.5 64-bit ('.venv': venv)",
   "metadata": {
    "interpreter": {
     "hash": "12711b6da72899f1203b7fd775293ad094ccaabff73aa274666582aecd1f6ccf"
    }
   }
  }
 },
 "nbformat": 4,
 "nbformat_minor": 2,
 "cells": [
  {
   "cell_type": "code",
   "execution_count": null,
   "metadata": {},
   "outputs": [],
   "source": [
    "from selenium import webdriver\n",
    "from selenium.webdriver.chrome.options import Options\n",
    "from selenium.webdriver.support.ui import WebDriverWait\n",
    "from selenium.webdriver.support import expected_conditions as EC\n",
    "from selenium.webdriver.common.by import By\n",
    "from selenium.webdriver.common.keys import Keys\n",
    "import time\n",
    "import pandas as pd\n",
    "import bs4"
   ]
  },
  {
   "cell_type": "code",
   "execution_count": null,
   "metadata": {},
   "outputs": [],
   "source": [
    "driver = webdriver.Chrome()  # Optional argument, if not specified will search path.\n",
    "\n",
    "driver.get('http://www.flightclub.com/') # Opens Browser to main site\n",
    "\n",
    "time.sleep(1) # 1 second pause\n",
    "\n",
    "search_box = driver.find_element_by_id('NavigationSearchInput') # finds the search box\n",
    "\n",
    "search_box.send_keys('NIKE LEBRON 8 V/2 LOW “SOLAR RED”')# enters selected item into search box\n",
    "\n",
    "\n",
    "time.sleep(1) # 1 second pause\n",
    "\n",
    "search_box.send_keys(Keys.ENTER)# Presses the \"Enter\" key to start search. most websites can use submit function below\n",
    "\n",
    "#search_box.submit()\n",
    "#driver.quit()"
   ]
  },
  {
   "cell_type": "code",
   "execution_count": null,
   "metadata": {},
   "outputs": [],
   "source": [
    "results = driver.find_elements_by_class_name('sc-1wc5x2x-0') # grabs every search result shown on page"
   ]
  },
  {
   "cell_type": "code",
   "execution_count": null,
   "metadata": {},
   "outputs": [],
   "source": [
    "#results"
   ]
  },
  {
   "cell_type": "code",
   "execution_count": null,
   "metadata": {},
   "outputs": [],
   "source": [
    "for result in results:\n",
    "    print(result.text)"
   ]
  },
  {
   "cell_type": "code",
   "execution_count": null,
   "metadata": {},
   "outputs": [],
   "source": [
    "shoe_list = []# creating list to hold and manipulate results\n",
    "for result in results:\n",
    "    shoe_list.append(result)# append results to list\n",
    "\n",
    "    #shoe_list.append(result.text)"
   ]
  },
  {
   "cell_type": "code",
   "execution_count": null,
   "metadata": {},
   "outputs": [],
   "source": [
    "#shoe_list\n",
    "#for shoe in shoe_list:\n",
    "    #print(shoe.text)"
   ]
  },
  {
   "cell_type": "code",
   "execution_count": null,
   "metadata": {},
   "outputs": [],
   "source": [
    "for shoe in list(shoe_list):# must make a copy of list before iterating and removing\n",
    "    if '$' not in shoe.text:# iterate through list of results and remove items not in stock\n",
    "        shoe_list.remove(shoe)"
   ]
  },
  {
   "cell_type": "code",
   "execution_count": null,
   "metadata": {},
   "outputs": [],
   "source": [
    "#shoe_list\n",
    "for shoe in shoe_list:\n",
    "    print(shoe.text)"
   ]
  },
  {
   "cell_type": "code",
   "execution_count": null,
   "metadata": {},
   "outputs": [],
   "source": [
    "shoe_list"
   ]
  },
  {
   "cell_type": "code",
   "execution_count": null,
   "metadata": {},
   "outputs": [],
   "source": [
    "links = [elem.get_attribute('href') for elem in shoe_list]# list comprehension to grab the links to each available item in the results list"
   ]
  },
  {
   "cell_type": "code",
   "execution_count": null,
   "metadata": {},
   "outputs": [],
   "source": [
    "links"
   ]
  },
  {
   "cell_type": "code",
   "execution_count": null,
   "metadata": {},
   "outputs": [],
   "source": []
  }
 ]
}