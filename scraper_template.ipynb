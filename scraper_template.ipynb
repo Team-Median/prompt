{
 "metadata": {
  "language_info": {
   "codemirror_mode": {
    "name": "ipython",
    "version": 3
   },
   "file_extension": ".py",
   "mimetype": "text/x-python",
   "name": "python",
   "nbconvert_exporter": "python",
   "pygments_lexer": "ipython3",
   "version": "3.9.5"
  },
  "orig_nbformat": 2,
  "kernelspec": {
   "name": "python3",
   "display_name": "Python 3.9.5 64-bit ('.venv': venv)",
   "metadata": {
    "interpreter": {
     "hash": "12711b6da72899f1203b7fd775293ad094ccaabff73aa274666582aecd1f6ccf"
    }
   }
  }
 },
 "nbformat": 4,
 "nbformat_minor": 2,
 "cells": [
  {
   "cell_type": "code",
   "execution_count": 152,
   "source": [
    "from selenium import webdriver\n",
    "from selenium.webdriver.chrome.options import Options\n",
    "from selenium.webdriver.support.ui import WebDriverWait\n",
    "from selenium.webdriver.support import expected_conditions as EC\n",
    "from selenium.webdriver.common.by import By\n",
    "from selenium.webdriver.common.keys import Keys\n",
    "import time\n",
    "import pandas as pd"
   ],
   "outputs": [],
   "metadata": {}
  },
  {
   "cell_type": "code",
   "execution_count": null,
   "source": [
    "driver = webdriver.Chrome()  # Optional argument, if not specified will search path.\n",
    "\n",
    "driver.get('http://www.footlocker.com/') # Opens Browser to main site\n",
    "\n",
    "time.sleep(1) # 1 second pause\n",
    "\n",
    "search_box = driver.find_element_by_xpath(\"//*[@id='HeaderSearch_search_query']\") # finds the search box\n",
    "\n",
    "search_box.send_keys(\"Jordan Flight Club '91\")# enters selected item into search box\n",
    "\n",
    "\n",
    "time.sleep(1) # 1 second pause\n",
    "\n",
    "search_box.send_keys(Keys.ENTER)# Presses the \"Enter\" key to start search. most websites can use submit function below\n",
    "\n",
    "#pop_up_button\n",
    "#search_box.submit()\n",
    "#driver.quit()"
   ],
   "outputs": [],
   "metadata": {}
  },
  {
   "cell_type": "code",
   "execution_count": null,
   "source": [
    "results = driver.find_elements_by_class_name('product-container') # grabs every search result shown on page"
   ],
   "outputs": [],
   "metadata": {}
  },
  {
   "cell_type": "code",
   "execution_count": null,
   "source": [
    "#results"
   ],
   "outputs": [],
   "metadata": {}
  },
  {
   "cell_type": "code",
   "execution_count": null,
   "source": [
    "#for result in results:\n",
    "    #print(result.text)"
   ],
   "outputs": [],
   "metadata": {}
  },
  {
   "cell_type": "code",
   "execution_count": null,
   "source": [
    "shoe_list = []# creating list to hold and manipulate results\n",
    "for result in results:\n",
    "    shoe_list.append(result)# append results to list\n",
    "\n",
    "    #shoe_list.append(result.text)"
   ],
   "outputs": [],
   "metadata": {}
  },
  {
   "cell_type": "code",
   "execution_count": null,
   "source": [
    "#shoe_list\n",
    "#for shoe in shoe_list:\n",
    "    #print(shoe.text)"
   ],
   "outputs": [],
   "metadata": {}
  },
  {
   "cell_type": "code",
   "execution_count": null,
   "source": [
    "# I dont think we need this on foolocker. only shows in stock items\n",
    "\n",
    "# for shoe in list(shoe_list):# must make a copy of list before iterating and removing\n",
    "#     if '$' not in shoe.text:# iterate through list of results and remove items not in stock\n",
    "#         shoe_list.remove(shoe)"
   ],
   "outputs": [],
   "metadata": {}
  },
  {
   "cell_type": "code",
   "execution_count": null,
   "source": [
    "shoe_list = shoe_list[:5] # shortens list to first 5\n",
    "\n",
    "# for result in result_list:\n",
    "#     link = driver.find_element_by_xpath(\"//*[@id='srp-river-results']/ul/li[1]/div/div[2]/a\").get_attribute('href')\n",
    "#     link_list.append(link)\n",
    "\n",
    "# for link in link_list:\n",
    "#   print(link) #ebay links are veeeeery long"
   ],
   "outputs": [],
   "metadata": {}
  },
  {
   "cell_type": "code",
   "execution_count": null,
   "source": [
    "#shoe_list\n",
    "for shoe in shoe_list:\n",
    "    print(shoe.text)"
   ],
   "outputs": [],
   "metadata": {}
  },
  {
   "cell_type": "code",
   "execution_count": null,
   "source": [
    "link_list = []\n",
    "\n",
    "for shoe in shoe_list:\n",
    "    link = driver.find_element_by_xpath(\"//*[@id='main']/div/div[2]/div/section/div/div[2]/ul/li[3]/div/a\").get_attribute('href')\n",
    "    link_list.append(link)"
   ],
   "outputs": [],
   "metadata": {}
  },
  {
   "cell_type": "code",
   "execution_count": null,
   "source": [
    "for link in link_list:\n",
    "    print(link)"
   ],
   "outputs": [],
   "metadata": {}
  },
  {
   "cell_type": "code",
   "execution_count": null,
   "source": [
    "link_list"
   ],
   "outputs": [],
   "metadata": {}
  },
  {
   "cell_type": "markdown",
   "source": [
    "# Testing a given Link for availability"
   ],
   "metadata": {}
  },
  {
   "cell_type": "code",
   "execution_count": 154,
   "source": [
    "def check_item_from_fc_link(fc_link):\n",
    "    driver = webdriver.Chrome()\n",
    "    driver.get(fc_link)\n",
    "    time.sleep(1) # 1 second pause\n",
    "    button = driver.find_element_by_class_name(\"sc-1t2dcr4-0\")\n",
    "\n",
    "    if button.text == \"OUT OF STOCK\":\n",
    "        print(\"still out of stock\")\n",
    "        driver.quit()\n",
    "    else:\n",
    "        print(f\"Your item is available at - {fc_link}\")\n",
    "\n",
    "\n",
    "    #print(button.text)"
   ],
   "outputs": [],
   "metadata": {}
  },
  {
   "cell_type": "code",
   "execution_count": 156,
   "source": [
    "check_item_from_fc_link(\"https://www.flightclub.com/air-jordan-1-high-retro-gs-white-black-varsity-green-011065\")"
   ],
   "outputs": [
    {
     "output_type": "stream",
     "name": "stdout",
     "text": [
      "still out of stock\n"
     ]
    }
   ],
   "metadata": {}
  },
  {
   "cell_type": "code",
   "execution_count": null,
   "source": [],
   "outputs": [],
   "metadata": {}
  }
 ]
}