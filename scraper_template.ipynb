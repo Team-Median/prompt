{
 "metadata": {
  "language_info": {
   "codemirror_mode": {
    "name": "ipython",
    "version": 3
   },
   "file_extension": ".py",
   "mimetype": "text/x-python",
   "name": "python",
   "nbconvert_exporter": "python",
   "pygments_lexer": "ipython3",
   "version": "3.9.5"
  },
  "orig_nbformat": 2,
  "kernelspec": {
   "name": "python3",
   "display_name": "Python 3.9.5 64-bit ('.venv': venv)",
   "metadata": {
    "interpreter": {
     "hash": "12711b6da72899f1203b7fd775293ad094ccaabff73aa274666582aecd1f6ccf"
    }
   }
  }
 },
 "nbformat": 4,
 "nbformat_minor": 2,
 "cells": [
  {
   "cell_type": "code",
   "execution_count": null,
   "metadata": {},
   "outputs": [],
   "source": [
    "from selenium import webdriver\n",
    "from selenium.webdriver.chrome.options import Options\n",
    "from selenium.webdriver.support.ui import WebDriverWait\n",
    "from selenium.webdriver.support import expected_conditions as EC\n",
    "from selenium.webdriver.common.by import By\n",
    "from selenium.webdriver.common.keys import Keys\n",
    "import time\n",
    "import pandas as pd\n",
    "import bs4"
   ]
  },
  {
   "cell_type": "code",
   "execution_count": 46,
   "metadata": {},
   "outputs": [],
   "source": [
    "driver = webdriver.Chrome()  # Optional argument, if not specified will search path.\n",
    "\n",
    "driver.get('http://www.footlocker.com/') # Opens Browser to main site\n",
    "\n",
    "time.sleep(1) # 1 second pause\n",
    "\n",
    "search_box = driver.find_element_by_xpath(\"//*[@id='HeaderSearch_search_query']\") # finds the search box\n",
    "\n",
    "search_box.send_keys(\"Jordan Flight Club '91\")# enters selected item into search box\n",
    "\n",
    "\n",
    "time.sleep(1) # 1 second pause\n",
    "\n",
    "search_box.send_keys(Keys.ENTER)# Presses the \"Enter\" key to start search. most websites can use submit function below\n",
    "\n",
    "#pop_up_button\n",
    "#search_box.submit()\n",
    "#driver.quit()"
   ]
  },
  {
   "cell_type": "code",
   "execution_count": 47,
   "metadata": {},
   "outputs": [],
   "source": [
    "results = driver.find_elements_by_class_name('product-container') # grabs every search result shown on page"
   ]
  },
  {
   "cell_type": "code",
   "execution_count": 49,
   "metadata": {},
   "outputs": [],
   "source": [
    "#results"
   ]
  },
  {
   "cell_type": "code",
   "execution_count": 50,
   "metadata": {},
   "outputs": [
    {
     "output_type": "stream",
     "name": "stdout",
     "text": [
      "Jordan Flight Club '91\n",
      "Men's•Gym Red/White/Black\n",
      "$130.00\n",
      "Jordan Flight Club '91\n",
      "Boys' Grade School•White/Black/Royal\n",
      "$110.00\n",
      "Jordan Flight Club '91\n",
      "Men's•White/Black/Royal Blue\n",
      "$130.00\n",
      "Jordan Flight Club '91\n",
      "Boys' Grade School•Gym Red/White/Black\n",
      "$110.00\n",
      "Jordan Flight Club '91\n",
      "Boys' Preschool•Gym Red/White/Black\n",
      "$75.00\n",
      "Jordan Flight Club '91\n",
      "Boys' Toddler•Gym Red/White/Black\n",
      "$60.00\n"
     ]
    }
   ],
   "source": [
    "#for result in results:\n",
    "    #print(result.text)"
   ]
  },
  {
   "cell_type": "code",
   "execution_count": 51,
   "metadata": {},
   "outputs": [],
   "source": [
    "shoe_list = []# creating list to hold and manipulate results\n",
    "for result in results:\n",
    "    shoe_list.append(result)# append results to list\n",
    "\n",
    "    #shoe_list.append(result.text)"
   ]
  },
  {
   "cell_type": "code",
   "execution_count": null,
   "metadata": {},
   "outputs": [],
   "source": [
    "shoe_list\n",
    "#for shoe in shoe_list:\n",
    "    #print(shoe.text)"
   ]
  },
  {
   "cell_type": "code",
   "execution_count": null,
   "metadata": {},
   "outputs": [],
   "source": [
    "# I dont think we need this on foolocker. only shows in stock items\n",
    "\n",
    "# for shoe in list(shoe_list):# must make a copy of list before iterating and removing\n",
    "#     if '$' not in shoe.text:# iterate through list of results and remove items not in stock\n",
    "#         shoe_list.remove(shoe)"
   ]
  },
  {
   "cell_type": "code",
   "execution_count": null,
   "metadata": {},
   "outputs": [],
   "source": [
    "#shoe_list\n",
    "for shoe in shoe_list:\n",
    "    print(shoe.text)"
   ]
  },
  {
   "cell_type": "code",
   "execution_count": 52,
   "metadata": {},
   "outputs": [],
   "source": [
    "shoe_list = shoe_list[:5] # shortens list to first 5\n",
    "\n",
    "# for result in result_list:\n",
    "#     link = driver.find_element_by_xpath(\"//*[@id='srp-river-results']/ul/li[1]/div/div[2]/a\").get_attribute('href')\n",
    "#     link_list.append(link)\n",
    "\n",
    "# for link in link_list:\n",
    "#   print(link) #ebay links are veeeeery long"
   ]
  },
  {
   "cell_type": "code",
   "execution_count": 53,
   "metadata": {},
   "outputs": [],
   "source": [
    "link_list = []\n",
    "\n",
    "for shoe in shoe_list:\n",
    "    link = driver.find_element_by_xpath(\"//*[@id='main']/div/div[2]/div/section/div/div[2]/ul/li[3]/div/a\").get_attribute('href')\n",
    "    link_list.append(link)"
   ]
  },
  {
   "cell_type": "code",
   "execution_count": 54,
   "metadata": {},
   "outputs": [
    {
     "output_type": "stream",
     "name": "stdout",
     "text": [
      "https://www.footlocker.com/product/jordan-flight-club-91-mens/H5424101.html\nhttps://www.footlocker.com/product/jordan-flight-club-91-mens/H5424101.html\nhttps://www.footlocker.com/product/jordan-flight-club-91-mens/H5424101.html\nhttps://www.footlocker.com/product/jordan-flight-club-91-mens/H5424101.html\nhttps://www.footlocker.com/product/jordan-flight-club-91-mens/H5424101.html\n"
     ]
    }
   ],
   "source": [
    "for link in link_list:\n",
    "    print(link)"
   ]
  },
  {
   "cell_type": "code",
   "execution_count": 55,
   "metadata": {},
   "outputs": [
    {
     "output_type": "execute_result",
     "data": {
      "text/plain": [
       "['https://www.footlocker.com/product/jordan-flight-club-91-mens/H5424101.html',\n",
       " 'https://www.footlocker.com/product/jordan-flight-club-91-mens/H5424101.html',\n",
       " 'https://www.footlocker.com/product/jordan-flight-club-91-mens/H5424101.html',\n",
       " 'https://www.footlocker.com/product/jordan-flight-club-91-mens/H5424101.html',\n",
       " 'https://www.footlocker.com/product/jordan-flight-club-91-mens/H5424101.html']"
      ]
     },
     "metadata": {},
     "execution_count": 55
    }
   ],
   "source": [
    "link_list"
   ]
  },
  {
   "cell_type": "code",
   "execution_count": null,
   "metadata": {},
   "outputs": [],
   "source": []
  }
 ]
}