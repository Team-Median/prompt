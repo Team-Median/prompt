{
 "metadata": {
  "language_info": {
   "codemirror_mode": {
    "name": "ipython",
    "version": 3
   },
   "file_extension": ".py",
   "mimetype": "text/x-python",
   "name": "python",
   "nbconvert_exporter": "python",
   "pygments_lexer": "ipython3",
   "version": "3.9.5"
  },
  "orig_nbformat": 2,
  "kernelspec": {
   "name": "python3",
   "display_name": "Python 3.9.5 64-bit ('.venv': venv)",
   "metadata": {
    "interpreter": {
     "hash": "12711b6da72899f1203b7fd775293ad094ccaabff73aa274666582aecd1f6ccf"
    }
   }
  }
 },
 "nbformat": 4,
 "nbformat_minor": 2,
 "cells": [
  {
   "cell_type": "code",
   "execution_count": 25,
   "metadata": {},
   "outputs": [],
   "source": [
    "from selenium import webdriver\n",
    "from selenium.webdriver.chrome.options import Options\n",
    "from selenium.webdriver.support.ui import WebDriverWait\n",
    "from selenium.webdriver.support import expected_conditions as EC\n",
    "from selenium.webdriver.common.by import By\n",
    "from selenium.webdriver.common.keys import Keys\n",
    "import time\n",
    "import pandas as pd\n",
    "import bs4"
   ]
  },
  {
   "cell_type": "code",
   "execution_count": 67,
   "metadata": {},
   "outputs": [],
   "source": [
    "driver = webdriver.Chrome()  # Optional argument, if not specified will search path.\n",
    "\n",
    "driver.get('https://ebay.com/') # Opens Browser to main site\n",
    "\n",
    "time.sleep(1) # 1 second pause\n",
    "\n",
    "search_box = driver.find_element_by_xpath('//*[@id=\"gh-ac\"]') # finds the search box\n",
    "\n",
    "search_box.send_keys('Nike Air Jordan 1 Mid GS White Gym Red Black')# enters selected item into search box\n",
    "\n",
    "\n",
    "time.sleep(1) # 1 second pause\n",
    "\n",
    "search_box.send_keys(Keys.ENTER)# Presses the \"Enter\" key to start search. most websites can use submit function below\n",
    "\n",
    "#search_box.submit()\n",
    "#driver.quit()"
   ]
  },
  {
   "cell_type": "code",
   "execution_count": 68,
   "metadata": {},
   "outputs": [],
   "source": [
    "results = driver.find_elements_by_class_name('s-item') # grabs every search result shown on page\n",
    "#results = find_elements_by_tag_name(\"\")"
   ]
  },
  {
   "cell_type": "code",
   "execution_count": 28,
   "metadata": {},
   "outputs": [],
   "source": [
    "#results"
   ]
  },
  {
   "cell_type": "code",
   "execution_count": 14,
   "metadata": {},
   "outputs": [],
   "source": [
    "# for result in results:\n",
    "#     print(result.text)"
   ]
  },
  {
   "cell_type": "code",
   "execution_count": 69,
   "metadata": {},
   "outputs": [],
   "source": [
    "result_list = []# creating list to hold and manipulate results\n",
    "for result in results:\n",
    "    result_list.append(result)# append results to list\n",
    "\n",
    "    #shoe_list.append(result.text)"
   ]
  },
  {
   "cell_type": "code",
   "execution_count": 70,
   "metadata": {},
   "outputs": [],
   "source": [
    "result_list = result_list[:5]\n",
    "#for shoe in shoe_list:\n",
    "    #print(shoe.text)"
   ]
  },
  {
   "cell_type": "code",
   "execution_count": 91,
   "metadata": {},
   "outputs": [
    {
     "output_type": "execute_result",
     "data": {
      "text/plain": [
       "[<selenium.webdriver.remote.webelement.WebElement (session=\"f4dcba6bf742bce6db67e7009ea5e044\", element=\"3a5fd400-af6a-4dad-b8ff-f4282364dd80\")>,\n",
       " <selenium.webdriver.remote.webelement.WebElement (session=\"f4dcba6bf742bce6db67e7009ea5e044\", element=\"2f421af8-7d5e-4407-b181-83f70f33c28b\")>,\n",
       " <selenium.webdriver.remote.webelement.WebElement (session=\"f4dcba6bf742bce6db67e7009ea5e044\", element=\"a751bf6b-5bdb-4f7b-b439-398c2ad9088b\")>,\n",
       " <selenium.webdriver.remote.webelement.WebElement (session=\"f4dcba6bf742bce6db67e7009ea5e044\", element=\"df5a4059-52ac-4229-9694-85569440738e\")>,\n",
       " <selenium.webdriver.remote.webelement.WebElement (session=\"f4dcba6bf742bce6db67e7009ea5e044\", element=\"24ac5ed9-ba4c-4313-916a-cbb0be7a1509\")>]"
      ]
     },
     "metadata": {},
     "execution_count": 91
    }
   ],
   "source": [
    "result_list"
   ]
  },
  {
   "cell_type": "code",
   "execution_count": 23,
   "metadata": {},
   "outputs": [],
   "source": [
    "# dont need this for ebay because it only shows available\n",
    "\n",
    "# for shoe in list(shoe_list):# must make a copy of list before iterating and removing\n",
    "#     if '$' not in shoe.text:# iterate through list of results and remove items not in stock\n",
    "#         shoe_list.remove(shoe)"
   ]
  },
  {
   "cell_type": "code",
   "execution_count": 101,
   "metadata": {},
   "outputs": [],
   "source": [
    "link_list = []\n",
    "for result in result_list:\n",
    "    link = driver.find_element_by_xpath(\"//*[@id='srp-river-results']/ul/li[1]/div/div[2]/a\").get_attribute('href')\n",
    "    link_list.append(link)"
   ]
  },
  {
   "cell_type": "code",
   "execution_count": 102,
   "metadata": {},
   "outputs": [
    {
     "output_type": "execute_result",
     "data": {
      "text/plain": [
       "['https://www.ebay.com/itm/402802313115?var=673044059748&_trkparms=ispr%3D1&hash=item5dc8e3879b:g:9UsAAOSweQ9gf1jn&amdata=enc%3AAQAGAAACsPYe5NmHp%252B2JMhMi7yxGiTJkPrKr5t53CooMSQt2orsS%252BMKizvpuEDUfX4dvRWfUzed0znlSIDrSSMzxLMMyZt3BYi4d0SiqK94JYQ5htNIb9BlMy0zdOWcsBGmWyOrxEREcsOYGBWURs9Du34FGp%252FvRPb7TK7PH85OyA7%252BcM1eOr19PDfbC%252FpJf4%252FMikY3%252BnxKd3ppD4xHKC3QM%252FpYoRzkBgFV9yrfMHCVAG0q6P7sh15ls%252B24QfO8ZRqhYBV5vMJwKnA2CdjgN6qlBXhhXHcsLXE3AuHaHtrf6UDbgkkQDvLP4DGZAmL2wTEvBUcfnDJnSGFMm5TajAjlsSC7ULNpcDoznB0zL8dAa3nV5%252BSPl1K5fEyEjoRUStcL0W5l%252B5EcYDbDHPPB%252B1D4U0jkhFOCmnrbeygo1fkQo0TW5ypSj6a%252FprujN%252Fw7I06f%252FWXnRG4ExOVZeDb0Y2z8%252FYdf7UMxzbAJUjwDOpwgkBVz9mXl2TEkVT3cmkuBvthg4ZDxCFMRBgsNTED6Koqi74Xd9qjoC1Nr356qhiaVd%252F2iSiOnZTnrLDp9Zxm3uK6HZNlJA5aVpMjQLx1OBuuvZwx56UzHgwvrB%252BWfGFqqBoCICdlvmHnd2EqFrNtP55RYJb8%252Bf90hVMENM8x7U2SFoi4OQQkrssqJtzYpiBogKhoJDi%252F8SuWENSQTr4Dpd8vs4jOMJZ4BcOhOprTpW2oy5sJBl%252FdgERgwjVfUZ%252BAysOeP0gKsp6DDBS8Phq0CHExDqvM0OsyPXeTzIZjgQ5MiLTrRHLOQDPQCFGExCTGuDTPsoZHO0BNEGZG0iSvFKP0izJexykAJsQ6XfQAwD4iA5Df5ImWs9tMd5BAGz68sndjCRCtatDFlQMflp9dK421bjXLP9oi2o1V26oYHYXVayu53VsiQ%253D%7Campid%3APL_CLK%7Cclp%3A2334524',\n",
       " 'https://www.ebay.com/itm/402802313115?var=673044059748&_trkparms=ispr%3D1&hash=item5dc8e3879b:g:9UsAAOSweQ9gf1jn&amdata=enc%3AAQAGAAACsPYe5NmHp%252B2JMhMi7yxGiTJkPrKr5t53CooMSQt2orsS%252BMKizvpuEDUfX4dvRWfUzed0znlSIDrSSMzxLMMyZt3BYi4d0SiqK94JYQ5htNIb9BlMy0zdOWcsBGmWyOrxEREcsOYGBWURs9Du34FGp%252FvRPb7TK7PH85OyA7%252BcM1eOr19PDfbC%252FpJf4%252FMikY3%252BnxKd3ppD4xHKC3QM%252FpYoRzkBgFV9yrfMHCVAG0q6P7sh15ls%252B24QfO8ZRqhYBV5vMJwKnA2CdjgN6qlBXhhXHcsLXE3AuHaHtrf6UDbgkkQDvLP4DGZAmL2wTEvBUcfnDJnSGFMm5TajAjlsSC7ULNpcDoznB0zL8dAa3nV5%252BSPl1K5fEyEjoRUStcL0W5l%252B5EcYDbDHPPB%252B1D4U0jkhFOCmnrbeygo1fkQo0TW5ypSj6a%252FprujN%252Fw7I06f%252FWXnRG4ExOVZeDb0Y2z8%252FYdf7UMxzbAJUjwDOpwgkBVz9mXl2TEkVT3cmkuBvthg4ZDxCFMRBgsNTED6Koqi74Xd9qjoC1Nr356qhiaVd%252F2iSiOnZTnrLDp9Zxm3uK6HZNlJA5aVpMjQLx1OBuuvZwx56UzHgwvrB%252BWfGFqqBoCICdlvmHnd2EqFrNtP55RYJb8%252Bf90hVMENM8x7U2SFoi4OQQkrssqJtzYpiBogKhoJDi%252F8SuWENSQTr4Dpd8vs4jOMJZ4BcOhOprTpW2oy5sJBl%252FdgERgwjVfUZ%252BAysOeP0gKsp6DDBS8Phq0CHExDqvM0OsyPXeTzIZjgQ5MiLTrRHLOQDPQCFGExCTGuDTPsoZHO0BNEGZG0iSvFKP0izJexykAJsQ6XfQAwD4iA5Df5ImWs9tMd5BAGz68sndjCRCtatDFlQMflp9dK421bjXLP9oi2o1V26oYHYXVayu53VsiQ%253D%7Campid%3APL_CLK%7Cclp%3A2334524',\n",
       " 'https://www.ebay.com/itm/402802313115?var=673044059748&_trkparms=ispr%3D1&hash=item5dc8e3879b:g:9UsAAOSweQ9gf1jn&amdata=enc%3AAQAGAAACsPYe5NmHp%252B2JMhMi7yxGiTJkPrKr5t53CooMSQt2orsS%252BMKizvpuEDUfX4dvRWfUzed0znlSIDrSSMzxLMMyZt3BYi4d0SiqK94JYQ5htNIb9BlMy0zdOWcsBGmWyOrxEREcsOYGBWURs9Du34FGp%252FvRPb7TK7PH85OyA7%252BcM1eOr19PDfbC%252FpJf4%252FMikY3%252BnxKd3ppD4xHKC3QM%252FpYoRzkBgFV9yrfMHCVAG0q6P7sh15ls%252B24QfO8ZRqhYBV5vMJwKnA2CdjgN6qlBXhhXHcsLXE3AuHaHtrf6UDbgkkQDvLP4DGZAmL2wTEvBUcfnDJnSGFMm5TajAjlsSC7ULNpcDoznB0zL8dAa3nV5%252BSPl1K5fEyEjoRUStcL0W5l%252B5EcYDbDHPPB%252B1D4U0jkhFOCmnrbeygo1fkQo0TW5ypSj6a%252FprujN%252Fw7I06f%252FWXnRG4ExOVZeDb0Y2z8%252FYdf7UMxzbAJUjwDOpwgkBVz9mXl2TEkVT3cmkuBvthg4ZDxCFMRBgsNTED6Koqi74Xd9qjoC1Nr356qhiaVd%252F2iSiOnZTnrLDp9Zxm3uK6HZNlJA5aVpMjQLx1OBuuvZwx56UzHgwvrB%252BWfGFqqBoCICdlvmHnd2EqFrNtP55RYJb8%252Bf90hVMENM8x7U2SFoi4OQQkrssqJtzYpiBogKhoJDi%252F8SuWENSQTr4Dpd8vs4jOMJZ4BcOhOprTpW2oy5sJBl%252FdgERgwjVfUZ%252BAysOeP0gKsp6DDBS8Phq0CHExDqvM0OsyPXeTzIZjgQ5MiLTrRHLOQDPQCFGExCTGuDTPsoZHO0BNEGZG0iSvFKP0izJexykAJsQ6XfQAwD4iA5Df5ImWs9tMd5BAGz68sndjCRCtatDFlQMflp9dK421bjXLP9oi2o1V26oYHYXVayu53VsiQ%253D%7Campid%3APL_CLK%7Cclp%3A2334524',\n",
       " 'https://www.ebay.com/itm/402802313115?var=673044059748&_trkparms=ispr%3D1&hash=item5dc8e3879b:g:9UsAAOSweQ9gf1jn&amdata=enc%3AAQAGAAACsPYe5NmHp%252B2JMhMi7yxGiTJkPrKr5t53CooMSQt2orsS%252BMKizvpuEDUfX4dvRWfUzed0znlSIDrSSMzxLMMyZt3BYi4d0SiqK94JYQ5htNIb9BlMy0zdOWcsBGmWyOrxEREcsOYGBWURs9Du34FGp%252FvRPb7TK7PH85OyA7%252BcM1eOr19PDfbC%252FpJf4%252FMikY3%252BnxKd3ppD4xHKC3QM%252FpYoRzkBgFV9yrfMHCVAG0q6P7sh15ls%252B24QfO8ZRqhYBV5vMJwKnA2CdjgN6qlBXhhXHcsLXE3AuHaHtrf6UDbgkkQDvLP4DGZAmL2wTEvBUcfnDJnSGFMm5TajAjlsSC7ULNpcDoznB0zL8dAa3nV5%252BSPl1K5fEyEjoRUStcL0W5l%252B5EcYDbDHPPB%252B1D4U0jkhFOCmnrbeygo1fkQo0TW5ypSj6a%252FprujN%252Fw7I06f%252FWXnRG4ExOVZeDb0Y2z8%252FYdf7UMxzbAJUjwDOpwgkBVz9mXl2TEkVT3cmkuBvthg4ZDxCFMRBgsNTED6Koqi74Xd9qjoC1Nr356qhiaVd%252F2iSiOnZTnrLDp9Zxm3uK6HZNlJA5aVpMjQLx1OBuuvZwx56UzHgwvrB%252BWfGFqqBoCICdlvmHnd2EqFrNtP55RYJb8%252Bf90hVMENM8x7U2SFoi4OQQkrssqJtzYpiBogKhoJDi%252F8SuWENSQTr4Dpd8vs4jOMJZ4BcOhOprTpW2oy5sJBl%252FdgERgwjVfUZ%252BAysOeP0gKsp6DDBS8Phq0CHExDqvM0OsyPXeTzIZjgQ5MiLTrRHLOQDPQCFGExCTGuDTPsoZHO0BNEGZG0iSvFKP0izJexykAJsQ6XfQAwD4iA5Df5ImWs9tMd5BAGz68sndjCRCtatDFlQMflp9dK421bjXLP9oi2o1V26oYHYXVayu53VsiQ%253D%7Campid%3APL_CLK%7Cclp%3A2334524',\n",
       " 'https://www.ebay.com/itm/402802313115?var=673044059748&_trkparms=ispr%3D1&hash=item5dc8e3879b:g:9UsAAOSweQ9gf1jn&amdata=enc%3AAQAGAAACsPYe5NmHp%252B2JMhMi7yxGiTJkPrKr5t53CooMSQt2orsS%252BMKizvpuEDUfX4dvRWfUzed0znlSIDrSSMzxLMMyZt3BYi4d0SiqK94JYQ5htNIb9BlMy0zdOWcsBGmWyOrxEREcsOYGBWURs9Du34FGp%252FvRPb7TK7PH85OyA7%252BcM1eOr19PDfbC%252FpJf4%252FMikY3%252BnxKd3ppD4xHKC3QM%252FpYoRzkBgFV9yrfMHCVAG0q6P7sh15ls%252B24QfO8ZRqhYBV5vMJwKnA2CdjgN6qlBXhhXHcsLXE3AuHaHtrf6UDbgkkQDvLP4DGZAmL2wTEvBUcfnDJnSGFMm5TajAjlsSC7ULNpcDoznB0zL8dAa3nV5%252BSPl1K5fEyEjoRUStcL0W5l%252B5EcYDbDHPPB%252B1D4U0jkhFOCmnrbeygo1fkQo0TW5ypSj6a%252FprujN%252Fw7I06f%252FWXnRG4ExOVZeDb0Y2z8%252FYdf7UMxzbAJUjwDOpwgkBVz9mXl2TEkVT3cmkuBvthg4ZDxCFMRBgsNTED6Koqi74Xd9qjoC1Nr356qhiaVd%252F2iSiOnZTnrLDp9Zxm3uK6HZNlJA5aVpMjQLx1OBuuvZwx56UzHgwvrB%252BWfGFqqBoCICdlvmHnd2EqFrNtP55RYJb8%252Bf90hVMENM8x7U2SFoi4OQQkrssqJtzYpiBogKhoJDi%252F8SuWENSQTr4Dpd8vs4jOMJZ4BcOhOprTpW2oy5sJBl%252FdgERgwjVfUZ%252BAysOeP0gKsp6DDBS8Phq0CHExDqvM0OsyPXeTzIZjgQ5MiLTrRHLOQDPQCFGExCTGuDTPsoZHO0BNEGZG0iSvFKP0izJexykAJsQ6XfQAwD4iA5Df5ImWs9tMd5BAGz68sndjCRCtatDFlQMflp9dK421bjXLP9oi2o1V26oYHYXVayu53VsiQ%253D%7Campid%3APL_CLK%7Cclp%3A2334524']"
      ]
     },
     "metadata": {},
     "execution_count": 102
    }
   ],
   "source": [
    "link_list"
   ]
  },
  {
   "cell_type": "code",
   "execution_count": null,
   "metadata": {},
   "outputs": [],
   "source": []
  }
 ]
}